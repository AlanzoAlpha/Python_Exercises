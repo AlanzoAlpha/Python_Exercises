{
 "cells": [
  {
   "cell_type": "markdown",
   "metadata": {},
   "source": [
    "Task 1\n",
    "Create a function that accepts a string as an argument and swaps vowels with a corresponding symbol, such that:\n",
    "\n",
    "\n",
    "a becomes 4\n",
    "\n",
    "\n",
    "e becomes 3\n",
    "\n",
    "\n",
    "i becomes !\n",
    "\n",
    "\n",
    "o becomes ooo\n",
    "\n",
    "\n",
    "u becomes |_|\n",
    "\n",
    "\n",
    "The vowel swapper should recognise and change lowercase and capital letters the same way, with the exception of o: capital O should be changed to 000 (zeroes).\n",
    "The function should return the result as a string.\n",
    "\n",
    "Examples:\n",
    "print(vowel_swapper(\"aA eE iI oO uU\")) # Should print \"44 33 !! ooo000 |_||_|\" to the console\n",
    "print(vowel_swapper(\"Hello World\")) # Should print \"H3llooo Wooorld\" to the console \n",
    "print(vowel_swapper(\"Everything's Available\")) # Should print \"3v3ryth!ng's 4v4!l4bl3\" to the console\n"
   ]
  },
  {
   "cell_type": "code",
   "execution_count": 1,
   "metadata": {},
   "outputs": [
    {
     "name": "stdout",
     "output_type": "stream",
     "text": [
      "sh3 s3ll s34 sh3ll 4t th3 s34 sh000r3\n",
      "44 33 !! 000000 |_||_|\n",
      "h3ll000 w000rld\n",
      "3v3ryth!ng's 4v4!l4bl3\n"
     ]
    }
   ],
   "source": [
    "def vswap(string):\n",
    "    string = string.lower()\n",
    "    string = string.replace('a', '4').replace('e', '3').replace('i', '!').replace('o', '000').replace('u', '|_|')\n",
    "    #return string\n",
    "    print(string)\n",
    "        \n",
    "string = 'She sell sea shell at the sea shore'\n",
    "string1 = 'aA eE iI oO uU'\n",
    "string2 = 'Hello World'\n",
    "string3 = \"Everything's Available\"\n",
    "\n",
    "vswap(string) \n",
    "vswap(string1)\n",
    "vswap(string2)\n",
    "vswap(string3)"
   ]
  },
  {
   "cell_type": "markdown",
   "metadata": {},
   "source": [
    "Task 2\n",
    "Create a function that takes a positive integer number and returns a list of all of its factors – all the numbers that divide into the input without any remainders.\n",
    "The output should be a list of integer values and should not include 1 or the input number.\n",
    "\n",
    "Examples:\n",
    "print(factors(15)) # Should print [3, 5] to the console\n",
    "print(factors(12)) # Should print [2, 3, 4, 6] to the console\n",
    "print(factors(13)) # Should print [] (an empty list) to the console"
   ]
  },
  {
   "cell_type": "code",
   "execution_count": 2,
   "metadata": {},
   "outputs": [
    {
     "name": "stdout",
     "output_type": "stream",
     "text": [
      "[3, 5]\n",
      "[2, 3, 4, 6]\n",
      "[]\n"
     ]
    }
   ],
   "source": [
    "def factors(num):\n",
    "    List =[]\n",
    "    num2 = range(2,11)\n",
    "    for i in num2:\n",
    "        if num%i==0:\n",
    "            List.append(i)\n",
    "    return List\n",
    "    \n",
    "print(factors(15)) \n",
    "print(factors(12)) \n",
    "print(factors(13)) \n"
   ]
  },
  {
   "cell_type": "markdown",
   "metadata": {},
   "source": [
    "Create a function that will take two integer numbers and calculate their value after being added, subtracted, multiplied or divided.\n",
    "The function should take the following arguments:\n",
    "\n",
    "\n",
    "a as your first value\n",
    "\n",
    "b as your second value\n",
    "the operation you want to perform (+, -, *, /) as a string value\n",
    "Such that the calculation is a + b, a - b, a * b, a / b\n",
    "\n",
    "\n",
    "The output must be an integer value.\n",
    "\n",
    "print(calculator(2, 4, \"+\")) # Should print 6 to the console\n",
    "print(calculator(10, 3, \"-\")) # Should print 7 to the console\n",
    "print(calculator(4, 7, \"*\")) # Should print 28 to the console\n",
    "print(calculator(100, 2, \"/\")) # Should print 50 to the console"
   ]
  },
  {
   "cell_type": "code",
   "execution_count": 3,
   "metadata": {},
   "outputs": [
    {
     "name": "stdout",
     "output_type": "stream",
     "text": [
      "Enter your first number: 10\n",
      "Enter your first number: 20\n",
      "Enter an operator: +\n",
      "30\n",
      "6\n",
      "7\n",
      "28\n",
      "50\n"
     ]
    }
   ],
   "source": [
    "num1 = int(input('Enter your first number: '))\n",
    "num2 = int(input('Enter your first number: '))\n",
    "sign = input('Enter an operator: ')\n",
    "ans = 0\n",
    "def calculator(num1, num2, sign):\n",
    "    \n",
    "    if sign =='+':\n",
    "        ans = num1 + num2\n",
    "        return ans\n",
    "    elif sign == '-':\n",
    "        ans = num1 - num2\n",
    "        return ans\n",
    "    elif sign == '*':\n",
    "        ans = num1 * num2\n",
    "        return ans\n",
    "    else:\n",
    "        if sign == '/':\n",
    "            ans = num1 / num2\n",
    "            return ans\n",
    "\n",
    "\n",
    "print(calculator(num1, num2, sign))\n",
    "print(calculator(2, 4, \"+\"))\n",
    "print(calculator(10, 3, \"-\"))\n",
    "print(calculator(4, 7, \"*\")) \n",
    "print(int(calculator(100, 2, \"/\")))         "
   ]
  },
  {
   "cell_type": "code",
   "execution_count": null,
   "metadata": {},
   "outputs": [],
   "source": []
  }
 ],
 "metadata": {
  "kernelspec": {
   "display_name": "Python 3",
   "language": "python",
   "name": "python3"
  },
  "language_info": {
   "codemirror_mode": {
    "name": "ipython",
    "version": 3
   },
   "file_extension": ".py",
   "mimetype": "text/x-python",
   "name": "python",
   "nbconvert_exporter": "python",
   "pygments_lexer": "ipython3",
   "version": "3.7.6"
  }
 },
 "nbformat": 4,
 "nbformat_minor": 4
}
